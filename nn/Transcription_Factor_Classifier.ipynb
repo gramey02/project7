{
 "cells": [
  {
   "cell_type": "markdown",
   "id": "1b4d2d52-e5e5-4a88-806f-d113628085b5",
   "metadata": {},
   "source": [
    "# Transcription Factor Classifier"
   ]
  },
  {
   "cell_type": "code",
   "execution_count": 1,
   "id": "b054ee10-df30-48b7-a4d1-82b8e1b22236",
   "metadata": {},
   "outputs": [],
   "source": [
    "from nn import NeuralNetwork\n",
    "import numpy as np\n",
    "from typing import List, Dict, Tuple, Union\n",
    "from numpy.typing import ArrayLike\n",
    "from sklearn.datasets import load_digits\n",
    "from sklearn.model_selection import train_test_split\n",
    "import pandas as pd\n",
    "from TFC_io import read_text_file, read_fasta_file\n",
    "from preprocess import sample_seqs, one_hot_encode_seqs, correct_length\n",
    "import matplotlib.pyplot as plt"
   ]
  },
  {
   "cell_type": "markdown",
   "id": "aee1fc43-7596-4d78-bbb0-44027f8a6673",
   "metadata": {},
   "source": [
    "### Read in Rap1 motif examples"
   ]
  },
  {
   "cell_type": "code",
   "execution_count": 2,
   "id": "dc241a21-3b83-48bc-bbb0-cd7438b0d80a",
   "metadata": {},
   "outputs": [],
   "source": [
    "pos_seqs = read_text_file(\"../data/rap1-lieb-positives.txt\")\n",
    "pos_labels = [True for i in range(len(pos_seqs))] #generate labels, where True = positive"
   ]
  },
  {
   "cell_type": "markdown",
   "id": "503309a4-3098-4d45-8b27-9c4f428d8894",
   "metadata": {},
   "source": [
    "### Read in negative example from yeast"
   ]
  },
  {
   "cell_type": "code",
   "execution_count": 3,
   "id": "45616f58-f609-4158-9176-fec59944bd71",
   "metadata": {},
   "outputs": [],
   "source": [
    "neg_seqs = read_fasta_file(\"../data/yeast-upstream-1k-negative.fa\")"
   ]
  },
  {
   "cell_type": "markdown",
   "id": "4b513450-c5c7-407a-a61b-5629789a1e4f",
   "metadata": {},
   "source": [
    "### Correct lengths of longer negative sequences by splitting them up into multiple sequences"
   ]
  },
  {
   "cell_type": "code",
   "execution_count": 4,
   "id": "3b272552-0602-4981-b15e-28a8db78d8f2",
   "metadata": {},
   "outputs": [
    {
     "name": "stdout",
     "output_type": "stream",
     "text": [
      "Number of negative sequences:  183297\n",
      "Number of positive sequences:  137\n"
     ]
    }
   ],
   "source": [
    "yeast_neg_corrected = correct_length(pos_seqs, neg_seqs)\n",
    "print(\"Number of negative sequences: \", len(yeast_neg_corrected))\n",
    "print(\"Number of positive sequences: \", len(pos_seqs))\n",
    "neg_labels = [False for i in range(len(yeast_neg_corrected))]"
   ]
  },
  {
   "cell_type": "markdown",
   "id": "d0aea433-a9c4-43e2-9ba6-2a65bb21d282",
   "metadata": {},
   "source": [
    "### Explain Sampling Scheme\n",
    "I chose to use oversampling to correct the class imbalance in the data by resampling the positive class with replacement until it had the same number of observations as the negative class. While this can make the classification model prone to ovefitting, it prevents information loss and avoids an extremely small sample size if we were to downsample the negative sequences to the size of the pos_seqs."
   ]
  },
  {
   "cell_type": "markdown",
   "id": "441c939f-3bfd-46bf-8388-7344c03d6366",
   "metadata": {},
   "source": [
    "### Implement sampling scheme"
   ]
  },
  {
   "cell_type": "code",
   "execution_count": 5,
   "id": "b3869fdb-f20e-44a9-9d19-c10aa8df2005",
   "metadata": {},
   "outputs": [
    {
     "name": "stdout",
     "output_type": "stream",
     "text": [
      "366594\n",
      "366594\n"
     ]
    }
   ],
   "source": [
    "seqs = pos_seqs + yeast_neg_corrected #combine the two lists of seqs\n",
    "labels = pos_labels + neg_labels #combine the two lists of labels\n",
    "new_seqs, new_labels = sample_seqs(seqs, labels) #fix class imbalance\n",
    "print(len(new_seqs)) #should be 36594\n",
    "print(len(new_labels)) #should be 36594"
   ]
  },
  {
   "cell_type": "markdown",
   "id": "1c9310c5-b0b6-406e-b878-39b86f2fa900",
   "metadata": {},
   "source": [
    "### Generate training, validation, and held out sets"
   ]
  },
  {
   "cell_type": "code",
   "execution_count": 6,
   "id": "db8d5c66-2ce4-4cf9-822b-286724f7014e",
   "metadata": {},
   "outputs": [
    {
     "name": "stdout",
     "output_type": "stream",
     "text": [
      "36660\n",
      "230953\n",
      "98981\n"
     ]
    }
   ],
   "source": [
    "#use a 70/30 train/test split, and hold out 10% of the data for later accuracy assessment\n",
    "train_val_x, held_out_x, train_val_y, held_out_y = train_test_split(new_seqs, new_labels, test_size=0.1, random_state=42)\n",
    "X_train, X_val, y_train, y_val = train_test_split(train_val_x, train_val_y, test_size=0.3, random_state = 42)\n",
    "\n",
    "print(len(held_out_x))\n",
    "print(len(X_train))\n",
    "print(len(X_val))"
   ]
  },
  {
   "cell_type": "markdown",
   "id": "c79975b2-609a-4978-a697-215574221662",
   "metadata": {},
   "source": [
    "### One hot encode the sequences in the training, test, and validation sets"
   ]
  },
  {
   "cell_type": "code",
   "execution_count": 7,
   "id": "be96314e-f2d8-4e19-972b-2f21bd9dbd2f",
   "metadata": {},
   "outputs": [],
   "source": [
    "held_out_encoded = one_hot_encode_seqs(held_out_x)\n",
    "X_train_encoded = one_hot_encode_seqs(X_train)\n",
    "X_val_encoded = one_hot_encode_seqs(X_val)"
   ]
  },
  {
   "cell_type": "code",
   "execution_count": 8,
   "id": "e82b2ec6-5e33-44a7-b7c1-767819437268",
   "metadata": {},
   "outputs": [],
   "source": [
    "#make sure to expand the dimensions of the expected outputs and format as numpy arrays\n",
    "y_train = np.array(np.expand_dims(np.array(y_train),axis=1))\n",
    "y_val = np.array(np.expand_dims(np.array(y_val),axis=1))\n",
    "held_out_y = np.array(np.expand_dims(np.array(held_out_y),axis=1))"
   ]
  },
  {
   "cell_type": "markdown",
   "id": "3727b05a-2871-4d10-b656-08bfd370d6df",
   "metadata": {},
   "source": [
    "### However,...\n",
    "since these sizes are all quite large to work with, in the interest of avoiding large runtimes, I will take only the top 200 for the hold out set, the top 1500 for the validation set, and the top 5000 for the training set"
   ]
  },
  {
   "cell_type": "code",
   "execution_count": 9,
   "id": "c70dda9d-779f-4d71-a834-d854e721088a",
   "metadata": {},
   "outputs": [],
   "source": [
    "small_X_train = X_train_encoded[0:5000]\n",
    "small_X_val = X_val_encoded[0:1500]\n",
    "small_held_outX = held_out_encoded[0:200]\n",
    "\n",
    "small_y_train = y_train[0:5000]\n",
    "small_y_val = y_val[0:1500]\n",
    "small_held_outY = held_out_y[0:200]"
   ]
  },
  {
   "cell_type": "markdown",
   "id": "6ef360f5-9ca3-429e-8a03-642105cfa7f4",
   "metadata": {},
   "source": [
    "### Define plotting function so loss history of neural network can be visualized"
   ]
  },
  {
   "cell_type": "code",
   "execution_count": 10,
   "id": "4c5e86ff-e089-410f-aaee-587fccf904cc",
   "metadata": {},
   "outputs": [],
   "source": [
    "def plot_loss_history(per_epoch_loss_train, per_epoch_loss_val):\n",
    "    \"\"\"\n",
    "    Plots the loss history after training is complete.\n",
    "    \"\"\"\n",
    "    loss_hist = per_epoch_loss_train\n",
    "    loss_hist_val = per_epoch_loss_val\n",
    "    assert len(loss_hist) > 0, \"Need to run training before plotting loss history\"\n",
    "    fig, axs = plt.subplots(2, figsize=(8,8))\n",
    "    fig.suptitle('Loss History')\n",
    "    axs[0].plot(np.arange(len(loss_hist)), loss_hist)\n",
    "    axs[0].set_title('Training Loss')\n",
    "    axs[1].plot(np.arange(len(loss_hist_val)), loss_hist_val)\n",
    "    axs[1].set_title('Validation Loss')\n",
    "    plt.xlabel('Steps')\n",
    "    axs[0].set_ylabel('Train Loss')\n",
    "    axs[1].set_ylabel('Val Loss')\n",
    "    fig.tight_layout()"
   ]
  },
  {
   "cell_type": "markdown",
   "id": "596489c5-3ee4-4ea8-8318-b05fcf101c1a",
   "metadata": {},
   "source": [
    "### Train a neural network\n",
    "I will be exploring some hyperparameters in the next few code chunks"
   ]
  },
  {
   "cell_type": "code",
   "execution_count": 11,
   "id": "928c5bc8-96fc-4b9d-a8e4-2979d14b4a75",
   "metadata": {},
   "outputs": [],
   "source": [
    "nn_arch = [{'input_dim': 68, 'output_dim': 5, 'activation': 'sigmoid'},\n",
    "           {'input_dim': 5, 'output_dim': 1, 'activation': 'sigmoid'}]\n",
    "classifier = NeuralNetwork(nn_arch, \n",
    "                          lr=0.00000001, \n",
    "                          seed=42, \n",
    "                          batch_size=20, \n",
    "                          epochs=10,\n",
    "                          loss_function = \"binary cross entropy\")"
   ]
  },
  {
   "cell_type": "code",
   "execution_count": 12,
   "id": "f80564c3-b888-4523-ba7c-f9c9d479e786",
   "metadata": {},
   "outputs": [
    {
     "data": {
      "image/png": "[encoded data removed]",
      "text/plain": [
       "<Figure size 576x576 with 2 Axes>"
      ]
     },
     "metadata": {
      "needs_background": "light"
     },
     "output_type": "display_data"
    }
   ],
   "source": [
    "#fit the neural network\n",
    "per_epoch_loss_train, per_epoch_loss_val = classifier.fit(X_train_encoded, y_train, X_val_encoded, y_val)\n",
    "plot_loss_history(per_epoch_loss_train, per_epoch_loss_val)"
   ]
  },
  {
   "cell_type": "code",
   "execution_count": 13,
   "id": "9d5a4886-df78-4618-a5ec-2593c32e1977",
   "metadata": {},
   "outputs": [
    {
     "name": "stdout",
     "output_type": "stream",
     "text": [
      "[[ True]\n",
      " [ True]\n",
      " [False]\n",
      " ...\n",
      " [False]\n",
      " [False]\n",
      " [False]]\n"
     ]
    }
   ],
   "source": [
    "print(y_val)"
   ]
  },
  {
   "cell_type": "code",
   "execution_count": 16,
   "id": "84d3e628-fd1d-4c80-9299-3cc3073482b0",
   "metadata": {},
   "outputs": [],
   "source": [
    "small = X_train_encoded[0:20]\n",
    "small_output = y_train[0:20]\n",
    "small_val = X_val_encoded[0:10]\n",
    "small_val_output = y_val[0:10]"
   ]
  },
  {
   "cell_type": "code",
   "execution_count": 17,
   "id": "be235fd1-ff69-4266-8f06-740e7259f8af",
   "metadata": {},
   "outputs": [
    {
     "data": {
      "text/plain": [
       "[14.577734357763877,\n",
       " 14.577942324787742,\n",
       " 14.57808096093429,\n",
       " 14.578219590679636,\n",
       " 14.578358214024298,\n",
       " 14.578496830968907,\n",
       " 14.578635441514077,\n",
       " 14.578774045660325,\n",
       " 14.578912643408284]"
      ]
     },
     "execution_count": 17,
     "metadata": {},
     "output_type": "execute_result"
    }
   ],
   "source": [
    "per_epoch_loss_train, per_epoch_loss_val = classifier.fit(small, small_output, small_val, small_val_output)\n",
    "per_epoch_loss_val"
   ]
  },
  {
   "cell_type": "code",
   "execution_count": null,
   "id": "a9581d5e-71a6-4b05-b137-223f6967fff1",
   "metadata": {},
   "outputs": [],
   "source": []
  },
  {
   "cell_type": "code",
   "execution_count": null,
   "id": "af3d72c8-2dd8-4322-be99-c955fdb9f109",
   "metadata": {},
   "outputs": [],
   "source": []
  },
  {
   "cell_type": "code",
   "execution_count": null,
   "id": "fa59ec1b-f3ed-4a57-9cac-9fa5886f85d9",
   "metadata": {},
   "outputs": [],
   "source": []
  },
  {
   "cell_type": "markdown",
   "id": "33c93341-66aa-4948-9276-0cbaa131809f",
   "metadata": {},
   "source": [
    "### Choice of loss function = Binary Cross Entropy\n",
    "### Choice of hyperparameters: number of hidden layers = , learning rate = , batch size = , epochs = \n",
    "I chose to use binary cross entropy as my loss function because we are trying to predict a binary output, either 0 (the motif is not a binding site for Rap1) or 1 (the motif is a binding site for Rap1). I chose the hyperaparameters I did because, as shown in the above plots, they give the lowest validation loss and a relatively low training loss."
   ]
  },
  {
   "cell_type": "code",
   "execution_count": null,
   "id": "12247d1e-7419-41de-89de-587fd65191a7",
   "metadata": {},
   "outputs": [],
   "source": [
    "#Re-run final model\n",
    "nn_arch = \n",
    "final model = \n",
    "per_epoch_loss_train, per_epoch_loss_val = final_model.fit()"
   ]
  },
  {
   "cell_type": "markdown",
   "id": "381d5470-c14f-4a4c-b39f-0e94fa6fef43",
   "metadata": {},
   "source": [
    "### Plotting training and validation loss per epoch for final model"
   ]
  },
  {
   "cell_type": "code",
   "execution_count": null,
   "id": "70030e9c-027c-488c-82f9-c2c48fa4c2a5",
   "metadata": {},
   "outputs": [],
   "source": [
    "plot_loss_history(per_epoch_loss_train, per_epoch_loss_val)"
   ]
  },
  {
   "cell_type": "code",
   "execution_count": 18,
   "id": "44685f62-16bd-49ea-a9b9-ac10f5e00c9b",
   "metadata": {},
   "outputs": [
    {
     "data": {
      "text/plain": [
       "17"
      ]
     },
     "execution_count": 18,
     "metadata": {},
     "output_type": "execute_result"
    }
   ],
   "source": [
    "len(rap1_motifs[0])"
   ]
  },
  {
   "cell_type": "code",
   "execution_count": 17,
   "id": "49ace09c-9e1c-423b-9e3f-ef455fa2c530",
   "metadata": {},
   "outputs": [
    {
     "data": {
      "text/plain": [
       "1000"
      ]
     },
     "execution_count": 17,
     "metadata": {},
     "output_type": "execute_result"
    }
   ],
   "source": [
    "len(yeast_neg[1001])"
   ]
  },
  {
   "cell_type": "code",
   "execution_count": 19,
   "id": "2aafc2ef-b802-4329-a756-ec3c485f8ddf",
   "metadata": {},
   "outputs": [
    {
     "data": {
      "text/plain": [
       "58"
      ]
     },
     "execution_count": 19,
     "metadata": {},
     "output_type": "execute_result"
    }
   ],
   "source": [
    "int(58.8)"
   ]
  },
  {
   "cell_type": "code",
   "execution_count": 20,
   "id": "f20b71cf-940c-400c-8971-eca2cd75c31f",
   "metadata": {},
   "outputs": [],
   "source": [
    "temp = [1,2,3,4,5,6,7,8,9, 0, 1, 2, 3, 4, 5,6,7,8]"
   ]
  },
  {
   "cell_type": "code",
   "execution_count": 21,
   "id": "3c28bf96-ccbb-4559-843a-e4c9b3a1ad8e",
   "metadata": {},
   "outputs": [
    {
     "data": {
      "text/plain": [
       "[1, 2, 3, 4, 5, 6, 7, 8, 9, 0, 1, 2, 3, 4, 5, 6, 7]"
      ]
     },
     "execution_count": 21,
     "metadata": {},
     "output_type": "execute_result"
    }
   ],
   "source": [
    "temp[0:17]"
   ]
  },
  {
   "cell_type": "code",
   "execution_count": 12,
   "id": "19e929b9-c864-452c-9999-5289c001f888",
   "metadata": {},
   "outputs": [],
   "source": [
    "temp = np.array([[1,2,3],\n",
    "                [4,5,6],\n",
    "                [7,8,9]])"
   ]
  },
  {
   "cell_type": "code",
   "execution_count": 15,
   "id": "b9ef5e66-1865-4885-914b-89f279eae852",
   "metadata": {},
   "outputs": [
    {
     "data": {
      "text/plain": [
       "array([[1.00000001, 2.00000001, 3.00000001],\n",
       "       [4.00000001, 5.00000001, 6.00000001],\n",
       "       [7.00000001, 8.00000001, 9.00000001]])"
      ]
     },
     "execution_count": 15,
     "metadata": {},
     "output_type": "execute_result"
    }
   ],
   "source": [
    "0.00000001 + temp"
   ]
  },
  {
   "cell_type": "code",
   "execution_count": null,
   "id": "a1ab0913-0f99-4668-b65b-d04b861f6114",
   "metadata": {},
   "outputs": [],
   "source": []
  }
 ],
 "metadata": {
  "kernelspec": {
   "display_name": "Python 3",
   "language": "python",
   "name": "python3"
  },
  "language_info": {
   "codemirror_mode": {
    "name": "ipython",
    "version": 3
   },
   "file_extension": ".py",
   "mimetype": "text/x-python",
   "name": "python",
   "nbconvert_exporter": "python",
   "pygments_lexer": "ipython3",
   "version": "3.8.8"
  }
 },
 "nbformat": 4,
 "nbformat_minor": 5
}
