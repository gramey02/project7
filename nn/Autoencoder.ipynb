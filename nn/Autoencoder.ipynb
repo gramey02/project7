{
 "cells": [
  {
   "cell_type": "markdown",
   "id": "576415f5-4b9f-418a-90bb-67a5238fff9d",
   "metadata": {},
   "source": [
    "# 64x16x64 Autoencoder"
   ]
  },
  {
   "cell_type": "code",
   "execution_count": 1,
   "id": "f1e64e64-6f6a-4da2-bd6f-1f239c4da66b",
   "metadata": {},
   "outputs": [],
   "source": [
    "from nn import NeuralNetwork\n",
    "import numpy as np\n",
    "from typing import List, Dict, Tuple, Union\n",
    "from numpy.typing import ArrayLike"
   ]
  },
  {
   "cell_type": "markdown",
   "id": "97feb603-766d-4e4a-b7c8-d3c85a2dfe7b",
   "metadata": {},
   "source": [
    "### Generate instance of Neural Network class"
   ]
  },
  {
   "cell_type": "code",
   "execution_count": null,
   "id": "ee214415-1cea-4204-99e8-6a57d1ea9bd4",
   "metadata": {},
   "outputs": [],
   "source": []
  },
  {
   "cell_type": "markdown",
   "id": "14155483-949f-49a6-ae7c-5accd37c6864",
   "metadata": {},
   "source": [
    "### Read in digits dataset"
   ]
  },
  {
   "cell_type": "code",
   "execution_count": null,
   "id": "13925432-23e8-4fe0-8b84-4abb7a7ff7f3",
   "metadata": {},
   "outputs": [],
   "source": []
  },
  {
   "cell_type": "markdown",
   "id": "94015eb7-dad3-4e75-afbe-5bdd1042c8ad",
   "metadata": {},
   "source": [
    "### Split digits into training and validation sets"
   ]
  },
  {
   "cell_type": "code",
   "execution_count": null,
   "id": "67809d96-7b7c-4a43-b4df-57b0a5b09a0f",
   "metadata": {},
   "outputs": [],
   "source": []
  },
  {
   "cell_type": "markdown",
   "id": "c6deaf31-5d97-426c-a347-e6c8a7c45ec5",
   "metadata": {},
   "source": [
    "### Train autoencoder on training data"
   ]
  },
  {
   "cell_type": "code",
   "execution_count": null,
   "id": "6f2acb42-9cea-4590-96e2-8c127e208efb",
   "metadata": {},
   "outputs": [],
   "source": []
  },
  {
   "cell_type": "markdown",
   "id": "f8089f09-1773-4642-9b44-689a361ae437",
   "metadata": {},
   "source": [
    "### Plot training and validation loss per epoch"
   ]
  },
  {
   "cell_type": "code",
   "execution_count": null,
   "id": "c4bd1a76-027e-4384-972a-3f70b1834603",
   "metadata": {},
   "outputs": [],
   "source": []
  },
  {
   "cell_type": "markdown",
   "id": "bb0ab271-a3f1-4e6c-aae0-cc7069d7b185",
   "metadata": {},
   "source": [
    "### Hyperparameter Tuning"
   ]
  },
  {
   "cell_type": "code",
   "execution_count": null,
   "id": "d479849a-f795-4a6e-abff-2f921df8b3bc",
   "metadata": {},
   "outputs": [],
   "source": []
  },
  {
   "cell_type": "markdown",
   "id": "daf33512-d4e8-4e9a-abc8-340fd817243d",
   "metadata": {},
   "source": [
    "### Why were the final hyperparameters chosen?"
   ]
  },
  {
   "cell_type": "code",
   "execution_count": null,
   "id": "b30a3fa1-a383-45e1-b9c5-aad1400859e6",
   "metadata": {},
   "outputs": [],
   "source": []
  },
  {
   "cell_type": "markdown",
   "id": "ad6717b7-26fb-4912-89c1-83523254f620",
   "metadata": {},
   "source": [
    "### Quantify average reconstruction error"
   ]
  },
  {
   "cell_type": "code",
   "execution_count": null,
   "id": "b321df84-b6b3-4225-a14e-6298a8085aa9",
   "metadata": {},
   "outputs": [],
   "source": []
  }
 ],
 "metadata": {
  "kernelspec": {
   "display_name": "Python 3",
   "language": "python",
   "name": "python3"
  },
  "language_info": {
   "codemirror_mode": {
    "name": "ipython",
    "version": 3
   },
   "file_extension": ".py",
   "mimetype": "text/x-python",
   "name": "python",
   "nbconvert_exporter": "python",
   "pygments_lexer": "ipython3",
   "version": "3.8.8"
  }
 },
 "nbformat": 4,
 "nbformat_minor": 5
}
