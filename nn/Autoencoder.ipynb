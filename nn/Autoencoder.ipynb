{
 "cells": [
  {
   "cell_type": "markdown",
   "id": "576415f5-4b9f-418a-90bb-67a5238fff9d",
   "metadata": {},
   "source": [
    "# 64x16x64 Autoencoder"
   ]
  },
  {
   "cell_type": "code",
   "execution_count": 2,
   "id": "f1e64e64-6f6a-4da2-bd6f-1f239c4da66b",
   "metadata": {},
   "outputs": [],
   "source": [
    "from nn import NeuralNetwork\n",
    "import numpy as np\n",
    "from typing import List, Dict, Tuple, Union\n",
    "from numpy.typing import ArrayLike\n",
    "from sklearn.datasets import load_digits\n",
    "from sklearn.model_selection import train_test_split\n",
    "import pandas as pd\n",
    "import matplotlib.pyplot as plt"
   ]
  },
  {
   "cell_type": "markdown",
   "id": "14155483-949f-49a6-ae7c-5accd37c6864",
   "metadata": {},
   "source": [
    "### Read in digits dataset"
   ]
  },
  {
   "cell_type": "code",
   "execution_count": 3,
   "id": "13925432-23e8-4fe0-8b84-4abb7a7ff7f3",
   "metadata": {},
   "outputs": [
    {
     "name": "stdout",
     "output_type": "stream",
     "text": [
      "(1797, 64)\n"
     ]
    },
    {
     "data": {
      "text/html": [
       "<div>\n",
       "<style scoped>\n",
       "    .dataframe tbody tr th:only-of-type {\n",
       "        vertical-align: middle;\n",
       "    }\n",
       "\n",
       "    .dataframe tbody tr th {\n",
       "        vertical-align: top;\n",
       "    }\n",
       "\n",
       "    .dataframe thead th {\n",
       "        text-align: right;\n",
       "    }\n",
       "</style>\n",
       "<table border=\"1\" class=\"dataframe\">\n",
       "  <thead>\n",
       "    <tr style=\"text-align: right;\">\n",
       "      <th></th>\n",
       "      <th>0</th>\n",
       "      <th>1</th>\n",
       "      <th>2</th>\n",
       "      <th>3</th>\n",
       "      <th>4</th>\n",
       "      <th>5</th>\n",
       "      <th>6</th>\n",
       "      <th>7</th>\n",
       "      <th>8</th>\n",
       "      <th>9</th>\n",
       "      <th>...</th>\n",
       "      <th>54</th>\n",
       "      <th>55</th>\n",
       "      <th>56</th>\n",
       "      <th>57</th>\n",
       "      <th>58</th>\n",
       "      <th>59</th>\n",
       "      <th>60</th>\n",
       "      <th>61</th>\n",
       "      <th>62</th>\n",
       "      <th>63</th>\n",
       "    </tr>\n",
       "  </thead>\n",
       "  <tbody>\n",
       "    <tr>\n",
       "      <th>0</th>\n",
       "      <td>0.0</td>\n",
       "      <td>0.0</td>\n",
       "      <td>5.0</td>\n",
       "      <td>13.0</td>\n",
       "      <td>9.0</td>\n",
       "      <td>1.0</td>\n",
       "      <td>0.0</td>\n",
       "      <td>0.0</td>\n",
       "      <td>0.0</td>\n",
       "      <td>0.0</td>\n",
       "      <td>...</td>\n",
       "      <td>0.0</td>\n",
       "      <td>0.0</td>\n",
       "      <td>0.0</td>\n",
       "      <td>0.0</td>\n",
       "      <td>6.0</td>\n",
       "      <td>13.0</td>\n",
       "      <td>10.0</td>\n",
       "      <td>0.0</td>\n",
       "      <td>0.0</td>\n",
       "      <td>0.0</td>\n",
       "    </tr>\n",
       "    <tr>\n",
       "      <th>1</th>\n",
       "      <td>0.0</td>\n",
       "      <td>0.0</td>\n",
       "      <td>0.0</td>\n",
       "      <td>12.0</td>\n",
       "      <td>13.0</td>\n",
       "      <td>5.0</td>\n",
       "      <td>0.0</td>\n",
       "      <td>0.0</td>\n",
       "      <td>0.0</td>\n",
       "      <td>0.0</td>\n",
       "      <td>...</td>\n",
       "      <td>0.0</td>\n",
       "      <td>0.0</td>\n",
       "      <td>0.0</td>\n",
       "      <td>0.0</td>\n",
       "      <td>0.0</td>\n",
       "      <td>11.0</td>\n",
       "      <td>16.0</td>\n",
       "      <td>10.0</td>\n",
       "      <td>0.0</td>\n",
       "      <td>0.0</td>\n",
       "    </tr>\n",
       "    <tr>\n",
       "      <th>2</th>\n",
       "      <td>0.0</td>\n",
       "      <td>0.0</td>\n",
       "      <td>0.0</td>\n",
       "      <td>4.0</td>\n",
       "      <td>15.0</td>\n",
       "      <td>12.0</td>\n",
       "      <td>0.0</td>\n",
       "      <td>0.0</td>\n",
       "      <td>0.0</td>\n",
       "      <td>0.0</td>\n",
       "      <td>...</td>\n",
       "      <td>5.0</td>\n",
       "      <td>0.0</td>\n",
       "      <td>0.0</td>\n",
       "      <td>0.0</td>\n",
       "      <td>0.0</td>\n",
       "      <td>3.0</td>\n",
       "      <td>11.0</td>\n",
       "      <td>16.0</td>\n",
       "      <td>9.0</td>\n",
       "      <td>0.0</td>\n",
       "    </tr>\n",
       "    <tr>\n",
       "      <th>3</th>\n",
       "      <td>0.0</td>\n",
       "      <td>0.0</td>\n",
       "      <td>7.0</td>\n",
       "      <td>15.0</td>\n",
       "      <td>13.0</td>\n",
       "      <td>1.0</td>\n",
       "      <td>0.0</td>\n",
       "      <td>0.0</td>\n",
       "      <td>0.0</td>\n",
       "      <td>8.0</td>\n",
       "      <td>...</td>\n",
       "      <td>9.0</td>\n",
       "      <td>0.0</td>\n",
       "      <td>0.0</td>\n",
       "      <td>0.0</td>\n",
       "      <td>7.0</td>\n",
       "      <td>13.0</td>\n",
       "      <td>13.0</td>\n",
       "      <td>9.0</td>\n",
       "      <td>0.0</td>\n",
       "      <td>0.0</td>\n",
       "    </tr>\n",
       "    <tr>\n",
       "      <th>4</th>\n",
       "      <td>0.0</td>\n",
       "      <td>0.0</td>\n",
       "      <td>0.0</td>\n",
       "      <td>1.0</td>\n",
       "      <td>11.0</td>\n",
       "      <td>0.0</td>\n",
       "      <td>0.0</td>\n",
       "      <td>0.0</td>\n",
       "      <td>0.0</td>\n",
       "      <td>0.0</td>\n",
       "      <td>...</td>\n",
       "      <td>0.0</td>\n",
       "      <td>0.0</td>\n",
       "      <td>0.0</td>\n",
       "      <td>0.0</td>\n",
       "      <td>0.0</td>\n",
       "      <td>2.0</td>\n",
       "      <td>16.0</td>\n",
       "      <td>4.0</td>\n",
       "      <td>0.0</td>\n",
       "      <td>0.0</td>\n",
       "    </tr>\n",
       "  </tbody>\n",
       "</table>\n",
       "<p>5 rows × 64 columns</p>\n",
       "</div>"
      ],
      "text/plain": [
       "    0    1    2     3     4     5    6    7    8    9   ...   54   55   56  \\\n",
       "0  0.0  0.0  5.0  13.0   9.0   1.0  0.0  0.0  0.0  0.0  ...  0.0  0.0  0.0   \n",
       "1  0.0  0.0  0.0  12.0  13.0   5.0  0.0  0.0  0.0  0.0  ...  0.0  0.0  0.0   \n",
       "2  0.0  0.0  0.0   4.0  15.0  12.0  0.0  0.0  0.0  0.0  ...  5.0  0.0  0.0   \n",
       "3  0.0  0.0  7.0  15.0  13.0   1.0  0.0  0.0  0.0  8.0  ...  9.0  0.0  0.0   \n",
       "4  0.0  0.0  0.0   1.0  11.0   0.0  0.0  0.0  0.0  0.0  ...  0.0  0.0  0.0   \n",
       "\n",
       "    57   58    59    60    61   62   63  \n",
       "0  0.0  6.0  13.0  10.0   0.0  0.0  0.0  \n",
       "1  0.0  0.0  11.0  16.0  10.0  0.0  0.0  \n",
       "2  0.0  0.0   3.0  11.0  16.0  9.0  0.0  \n",
       "3  0.0  7.0  13.0  13.0   9.0  0.0  0.0  \n",
       "4  0.0  0.0   2.0  16.0   4.0  0.0  0.0  \n",
       "\n",
       "[5 rows x 64 columns]"
      ]
     },
     "execution_count": 3,
     "metadata": {},
     "output_type": "execute_result"
    }
   ],
   "source": [
    "digits = load_digits().data\n",
    "print(digits.shape)\n",
    "#print first 5 entries of the dataset, just to see what it looks like\n",
    "pd.DataFrame(digits).head()"
   ]
  },
  {
   "cell_type": "markdown",
   "id": "94015eb7-dad3-4e75-afbe-5bdd1042c8ad",
   "metadata": {},
   "source": [
    "### Split digits into training and validation sets"
   ]
  },
  {
   "cell_type": "code",
   "execution_count": 4,
   "id": "67809d96-7b7c-4a43-b4df-57b0a5b09a0f",
   "metadata": {},
   "outputs": [
    {
     "name": "stdout",
     "output_type": "stream",
     "text": [
      "(1257, 64)\n",
      "(540, 64)\n"
     ]
    }
   ],
   "source": [
    "#use a 70/30 train/test split\n",
    "X_train, X_val = train_test_split(digits, test_size=0.3, random_state=42)\n",
    "print(X_train.shape)\n",
    "print(X_val.shape)"
   ]
  },
  {
   "cell_type": "markdown",
   "id": "97feb603-766d-4e4a-b7c8-d3c85a2dfe7b",
   "metadata": {},
   "source": [
    "### Generate instance of Neural Network class"
   ]
  },
  {
   "cell_type": "code",
   "execution_count": 21,
   "id": "ee214415-1cea-4204-99e8-6a57d1ea9bd4",
   "metadata": {},
   "outputs": [],
   "source": [
    "nn_arch = [{'input_dim': 64, 'output_dim': 16, 'activation': 'relu'},\n",
    "           {'input_dim': 16, 'output_dim': 64, 'activation': 'relu'}]\n",
    "\n",
    "ae = NeuralNetwork(nn_arch,\n",
    "                   lr = 1e-7,#0.0000001,\n",
    "                   seed=42,\n",
    "                   batch_size = 10,\n",
    "                   epochs=3000,\n",
    "                   loss_function = \"mean squared error\")"
   ]
  },
  {
   "cell_type": "markdown",
   "id": "c6deaf31-5d97-426c-a347-e6c8a7c45ec5",
   "metadata": {},
   "source": [
    "### Train autoencoder on training data"
   ]
  },
  {
   "cell_type": "code",
   "execution_count": 22,
   "id": "6f2acb42-9cea-4590-96e2-8c127e208efb",
   "metadata": {},
   "outputs": [],
   "source": [
    "#inputs and outputs should be the same for an autoencoder\n",
    "per_epoch_loss_train, per_epoch_loss_val = ae.fit(X_train, X_train, X_val, X_val)"
   ]
  },
  {
   "cell_type": "markdown",
   "id": "f8089f09-1773-4642-9b44-689a361ae437",
   "metadata": {},
   "source": [
    "### Plot training and validation loss per epoch"
   ]
  },
  {
   "cell_type": "markdown",
   "id": "9185dd9a-fbce-4c01-a06b-39f845facd9b",
   "metadata": {},
   "source": [
    "Define plotting function and make plots:"
   ]
  },
  {
   "cell_type": "code",
   "execution_count": 54,
   "id": "8dec8f9b-dae6-46dc-96d2-f131c5c4d9e3",
   "metadata": {},
   "outputs": [
    {
     "data": {
      "text/plain": [
       "44.753029011597626"
      ]
     },
     "execution_count": 54,
     "metadata": {},
     "output_type": "execute_result"
    },
    {
     "data": {
      "image/png": "[encoded data removed]",
      "text/plain": [
       "<Figure size 576x576 with 2 Axes>"
      ]
     },
     "metadata": {
      "needs_background": "light"
     },
     "output_type": "display_data"
    }
   ],
   "source": [
    "def plot_loss_history(per_epoch_loss_train, per_epoch_loss_val):\n",
    "    \"\"\"\n",
    "    Plots the loss history after training is complete.\n",
    "    \"\"\"\n",
    "    loss_hist = per_epoch_loss_train\n",
    "    loss_hist_val = per_epoch_loss_val\n",
    "    assert len(loss_hist) > 0, \"Need to run training before plotting loss history\"\n",
    "    fig, axs = plt.subplots(2, figsize=(8,8))\n",
    "    fig.suptitle('Loss History')\n",
    "    axs[0].plot(np.arange(len(loss_hist)), loss_hist)\n",
    "    axs[0].set_title('Training Loss')\n",
    "    axs[1].plot(np.arange(len(loss_hist_val)), loss_hist_val)\n",
    "    axs[1].set_title('Validation Loss')\n",
    "    plt.xlabel('Steps')\n",
    "    axs[0].set_ylabel('Train Loss')\n",
    "    axs[1].set_ylabel('Val Loss')\n",
    "    fig.tight_layout()\n",
    "    \n",
    "plot_loss_history(per_epoch_loss_train, per_epoch_loss_val)\n",
    "min(per_epoch_loss_val)"
   ]
  },
  {
   "cell_type": "markdown",
   "id": "bb0ab271-a3f1-4e6c-aae0-cc7069d7b185",
   "metadata": {},
   "source": [
    "### Hyperparameter Tuning\n",
    "Now try out some more hyperparameters"
   ]
  },
  {
   "cell_type": "code",
   "execution_count": 34,
   "id": "e1245a18-7368-4ca8-8044-1322ce0c26ea",
   "metadata": {},
   "outputs": [
    {
     "data": {
      "image/png": "[encoded data removed]",
      "text/plain": [
       "<Figure size 576x576 with 2 Axes>"
      ]
     },
     "metadata": {
      "needs_background": "light"
     },
     "output_type": "display_data"
    }
   ],
   "source": [
    "ae2 = NeuralNetwork(nn_arch,\n",
    "                   lr = 0.1,\n",
    "                   seed=42,\n",
    "                   batch_size = 10,\n",
    "                   epochs=50,\n",
    "                   loss_function = \"mean squared error\")\n",
    "per_epoch_loss_train2, per_epoch_loss_val2 = ae2.fit(X_train, X_train, X_val, X_val)\n",
    "plot_loss_history(per_epoch_loss_train2, per_epoch_loss_val2)"
   ]
  },
  {
   "cell_type": "markdown",
   "id": "e6fa640a-8a71-4a58-806c-682184c1e3b1",
   "metadata": {},
   "source": [
    "Clearly a higher learning rate of 0.1 does not improve model performance, so we should stick with lower learning rates. Let's try a learning rate in between the one in our first and second ae instances, and adjust the number of epochs accordingly."
   ]
  },
  {
   "cell_type": "code",
   "execution_count": 53,
   "id": "bc725905-8fb6-4061-b9fd-7fa82d82960a",
   "metadata": {},
   "outputs": [
    {
     "data": {
      "text/plain": [
       "44.49946900476662"
      ]
     },
     "execution_count": 53,
     "metadata": {},
     "output_type": "execute_result"
    },
    {
     "data": {
      "image/png": "[encoded data removed]",
      "text/plain": [
       "<Figure size 576x576 with 2 Axes>"
      ]
     },
     "metadata": {
      "needs_background": "light"
     },
     "output_type": "display_data"
    }
   ],
   "source": [
    "ae3 = NeuralNetwork(nn_arch,\n",
    "                   lr = 1e-6,\n",
    "                   seed=42,\n",
    "                   batch_size = 10,\n",
    "                   epochs=175,\n",
    "                   loss_function = \"mean squared error\")\n",
    "per_epoch_loss_train3, per_epoch_loss_val3 = ae3.fit(X_train, X_train, X_val, X_val)\n",
    "plot_loss_history(per_epoch_loss_train3, per_epoch_loss_val3)\n",
    "min(per_epoch_loss_val3)"
   ]
  },
  {
   "cell_type": "markdown",
   "id": "520dfbf0-1541-4b0b-8575-5448fcde454e",
   "metadata": {},
   "source": [
    "The learning rate of 1e-6 gives about the same minimum validation loss as that given by a learning rate of 1e-7, but it does so in fewer epochs, so moving forward I'll use a learning rate of 1e-6."
   ]
  },
  {
   "cell_type": "code",
   "execution_count": null,
   "id": "5819dfa6-8fe2-4d65-8af3-835c9966ad6d",
   "metadata": {},
   "outputs": [],
   "source": []
  },
  {
   "cell_type": "code",
   "execution_count": null,
   "id": "173e0aa5-f7d7-47bb-8b6f-51d825bf8202",
   "metadata": {},
   "outputs": [],
   "source": [
    "nn_arch = [{'input_dim': 64, 'output_dim': 50, 'activation': 'relu'},\n",
    "           {'input_dim': 50, 'output_dim': 35, 'activation': 'relu'},\n",
    "           {'input_dim': 35, 'output_dim': 25, 'activation': 'relu'},\n",
    "           {'input_dim': 25, 'output_dim': 16, 'activation': 'relu'},\n",
    "           {'input_dim': 16, 'output_dim': 10, 'activation': 'relu'},\n",
    "           {'input_dim': 10, 'output_dim': 16, 'activation': 'relu'},\n",
    "           {'input_dim': 16, 'output_dim': 25, 'activation': 'relu'},\n",
    "           {'input_dim': 25, 'output_dim': 35, 'activation': 'relu'},\n",
    "           {'input_dim': 35, 'output_dim': 50, 'activation': 'relu'},\n",
    "           {'input_dim': 50, 'output_dim': 64, 'activation': 'relu'}]"
   ]
  },
  {
   "cell_type": "markdown",
   "id": "daf33512-d4e8-4e9a-abc8-340fd817243d",
   "metadata": {},
   "source": [
    "### Why were the final hyperparameters chosen?"
   ]
  },
  {
   "cell_type": "markdown",
   "id": "ae046529-c64b-4bc4-a6ae-2523c41760f9",
   "metadata": {},
   "source": [
    "Hyperparameters chosen: learning rate = ___ , batch size = ___ , epochs = ___ .\n",
    "These hyperparameters were chosen because they give the lowest validation loss as well as a relatively low training loss."
   ]
  },
  {
   "cell_type": "markdown",
   "id": "ad6717b7-26fb-4912-89c1-83523254f620",
   "metadata": {},
   "source": [
    "### Quantify average reconstruction error"
   ]
  },
  {
   "cell_type": "code",
   "execution_count": 39,
   "id": "b321df84-b6b3-4225-a14e-6298a8085aa9",
   "metadata": {},
   "outputs": [
    {
     "name": "stdout",
     "output_type": "stream",
     "text": [
      "The average reconstruction error was 0.2222222222222222.\n"
     ]
    }
   ],
   "source": [
    "def avg_reconstruction_error(y, y_hat):\n",
    "    avg_error = np.mean(y-y_hat)\n",
    "    return avg_error\n",
    "\n",
    "avg_error = avg_reconstruction_error(y, y_hat)\n",
    "print(\"The average reconstruction error was \" + str(avg_error)+\".\")"
   ]
  },
  {
   "cell_type": "code",
   "execution_count": 7,
   "id": "333ea315-7d2c-43fc-8f6f-91f1436def76",
   "metadata": {},
   "outputs": [
    {
     "data": {
      "text/plain": [
       "(1257, 64)"
      ]
     },
     "execution_count": 7,
     "metadata": {},
     "output_type": "execute_result"
    }
   ],
   "source": [
    "X_train.shape"
   ]
  },
  {
   "cell_type": "code",
   "execution_count": 8,
   "id": "bdceb7c8-c1c1-465c-8b44-208a4570efdc",
   "metadata": {},
   "outputs": [
    {
     "ename": "ValueError",
     "evalue": "too many values to unpack (expected 2)",
     "output_type": "error",
     "traceback": [
      "\u001b[0;31m---------------------------------------------------------------------------\u001b[0m",
      "\u001b[0;31mValueError\u001b[0m                                Traceback (most recent call last)",
      "\u001b[0;32m<ipython-input-8-03056e386638>\u001b[0m in \u001b[0;36m<module>\u001b[0;34m\u001b[0m\n\u001b[0;32m----> 1\u001b[0;31m \u001b[0moutput\u001b[0m\u001b[0;34m,\u001b[0m \u001b[0mcache\u001b[0m \u001b[0;34m=\u001b[0m \u001b[0mae\u001b[0m\u001b[0;34m.\u001b[0m\u001b[0mpredict\u001b[0m\u001b[0;34m(\u001b[0m\u001b[0mX_train\u001b[0m\u001b[0;34m)\u001b[0m\u001b[0;34m\u001b[0m\u001b[0;34m\u001b[0m\u001b[0m\n\u001b[0m",
      "\u001b[0;31mValueError\u001b[0m: too many values to unpack (expected 2)"
     ]
    }
   ],
   "source": [
    "output, cache = ae.predict(X_train)"
   ]
  },
  {
   "cell_type": "code",
   "execution_count": null,
   "id": "7159cdcb-cde2-4e20-bc69-3304428c1633",
   "metadata": {},
   "outputs": [],
   "source": []
  }
 ],
 "metadata": {
  "kernelspec": {
   "display_name": "Python 3",
   "language": "python",
   "name": "python3"
  },
  "language_info": {
   "codemirror_mode": {
    "name": "ipython",
    "version": 3
   },
   "file_extension": ".py",
   "mimetype": "text/x-python",
   "name": "python",
   "nbconvert_exporter": "python",
   "pygments_lexer": "ipython3",
   "version": "3.8.8"
  }
 },
 "nbformat": 4,
 "nbformat_minor": 5
}
