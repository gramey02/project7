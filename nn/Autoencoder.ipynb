{
 "cells": [
  {
   "cell_type": "markdown",
   "id": "576415f5-4b9f-418a-90bb-67a5238fff9d",
   "metadata": {},
   "source": [
    "# 64x16x64 Autoencoder"
   ]
  },
  {
   "cell_type": "code",
   "execution_count": 13,
   "id": "f1e64e64-6f6a-4da2-bd6f-1f239c4da66b",
   "metadata": {},
   "outputs": [],
   "source": [
    "from nn import NeuralNetwork\n",
    "import numpy as np\n",
    "from typing import List, Dict, Tuple, Union\n",
    "from numpy.typing import ArrayLike\n",
    "from sklearn.datasets import load_digits"
   ]
  },
  {
   "cell_type": "markdown",
   "id": "97feb603-766d-4e4a-b7c8-d3c85a2dfe7b",
   "metadata": {},
   "source": [
    "### Generate instance of Neural Network class"
   ]
  },
  {
   "cell_type": "code",
   "execution_count": 8,
   "id": "ee214415-1cea-4204-99e8-6a57d1ea9bd4",
   "metadata": {},
   "outputs": [],
   "source": [
    "nn_arch = [{'input_dim': 64, 'output_dim': 16, 'activation': 'relu'},\n",
    "           {'input_dim': 16, 'output_dim': 64, 'activation:': 'relu'}]\n",
    "\n",
    "ae = NeuralNetwork(nn_arch,\n",
    "                   lr = 0.05,\n",
    "                   seed=42,\n",
    "                   batch_size = 10,\n",
    "                   epochs=100,\n",
    "                   loss_function = \"mean squared error\")"
   ]
  },
  {
   "cell_type": "markdown",
   "id": "14155483-949f-49a6-ae7c-5accd37c6864",
   "metadata": {},
   "source": [
    "### Read in digits dataset"
   ]
  },
  {
   "cell_type": "code",
   "execution_count": 20,
   "id": "13925432-23e8-4fe0-8b84-4abb7a7ff7f3",
   "metadata": {},
   "outputs": [
    {
     "data": {
      "text/plain": [
       "array([[ 0.,  0.,  5., 13.,  9.,  1.,  0.,  0.,  0.,  0., 13., 15., 10.,\n",
       "        15.,  5.,  0.,  0.,  3., 15.,  2.,  0., 11.,  8.,  0.,  0.,  4.,\n",
       "        12.,  0.,  0.,  8.,  8.,  0.,  0.,  5.,  8.,  0.,  0.,  9.,  8.,\n",
       "         0.,  0.,  4., 11.,  0.,  1., 12.,  7.,  0.,  0.,  2., 14.,  5.,\n",
       "        10., 12.,  0.,  0.,  0.,  0.,  6., 13., 10.,  0.,  0.,  0.],\n",
       "       [ 0.,  0.,  0., 12., 13.,  5.,  0.,  0.,  0.,  0.,  0., 11., 16.,\n",
       "         9.,  0.,  0.,  0.,  0.,  3., 15., 16.,  6.,  0.,  0.,  0.,  7.,\n",
       "        15., 16., 16.,  2.,  0.,  0.,  0.,  0.,  1., 16., 16.,  3.,  0.,\n",
       "         0.,  0.,  0.,  1., 16., 16.,  6.,  0.,  0.,  0.,  0.,  1., 16.,\n",
       "        16.,  6.,  0.,  0.,  0.,  0.,  0., 11., 16., 10.,  0.,  0.],\n",
       "       [ 0.,  0.,  0.,  4., 15., 12.,  0.,  0.,  0.,  0.,  3., 16., 15.,\n",
       "        14.,  0.,  0.,  0.,  0.,  8., 13.,  8., 16.,  0.,  0.,  0.,  0.,\n",
       "         1.,  6., 15., 11.,  0.,  0.,  0.,  1.,  8., 13., 15.,  1.,  0.,\n",
       "         0.,  0.,  9., 16., 16.,  5.,  0.,  0.,  0.,  0.,  3., 13., 16.,\n",
       "        16., 11.,  5.,  0.,  0.,  0.,  0.,  3., 11., 16.,  9.,  0.],\n",
       "       [ 0.,  0.,  7., 15., 13.,  1.,  0.,  0.,  0.,  8., 13.,  6., 15.,\n",
       "         4.,  0.,  0.,  0.,  2.,  1., 13., 13.,  0.,  0.,  0.,  0.,  0.,\n",
       "         2., 15., 11.,  1.,  0.,  0.,  0.,  0.,  0.,  1., 12., 12.,  1.,\n",
       "         0.,  0.,  0.,  0.,  0.,  1., 10.,  8.,  0.,  0.,  0.,  8.,  4.,\n",
       "         5., 14.,  9.,  0.,  0.,  0.,  7., 13., 13.,  9.,  0.,  0.]])"
      ]
     },
     "execution_count": 20,
     "metadata": {},
     "output_type": "execute_result"
    }
   ],
   "source": [
    "digits = load_digits()\n",
    "#print first 5 entries of the dataset, just to see what it looks like\n",
    "digits.data[0:4]"
   ]
  },
  {
   "cell_type": "markdown",
   "id": "94015eb7-dad3-4e75-afbe-5bdd1042c8ad",
   "metadata": {},
   "source": [
    "### Split digits into training and validation sets"
   ]
  },
  {
   "cell_type": "code",
   "execution_count": null,
   "id": "67809d96-7b7c-4a43-b4df-57b0a5b09a0f",
   "metadata": {},
   "outputs": [],
   "source": []
  },
  {
   "cell_type": "markdown",
   "id": "c6deaf31-5d97-426c-a347-e6c8a7c45ec5",
   "metadata": {},
   "source": [
    "### Train autoencoder on training data"
   ]
  },
  {
   "cell_type": "code",
   "execution_count": null,
   "id": "6f2acb42-9cea-4590-96e2-8c127e208efb",
   "metadata": {},
   "outputs": [],
   "source": []
  },
  {
   "cell_type": "markdown",
   "id": "f8089f09-1773-4642-9b44-689a361ae437",
   "metadata": {},
   "source": [
    "### Plot training and validation loss per epoch"
   ]
  },
  {
   "cell_type": "code",
   "execution_count": null,
   "id": "c4bd1a76-027e-4384-972a-3f70b1834603",
   "metadata": {},
   "outputs": [],
   "source": []
  },
  {
   "cell_type": "markdown",
   "id": "bb0ab271-a3f1-4e6c-aae0-cc7069d7b185",
   "metadata": {},
   "source": [
    "### Hyperparameter Tuning"
   ]
  },
  {
   "cell_type": "code",
   "execution_count": null,
   "id": "d479849a-f795-4a6e-abff-2f921df8b3bc",
   "metadata": {},
   "outputs": [],
   "source": []
  },
  {
   "cell_type": "markdown",
   "id": "daf33512-d4e8-4e9a-abc8-340fd817243d",
   "metadata": {},
   "source": [
    "### Why were the final hyperparameters chosen?"
   ]
  },
  {
   "cell_type": "code",
   "execution_count": null,
   "id": "b30a3fa1-a383-45e1-b9c5-aad1400859e6",
   "metadata": {},
   "outputs": [],
   "source": []
  },
  {
   "cell_type": "markdown",
   "id": "ad6717b7-26fb-4912-89c1-83523254f620",
   "metadata": {},
   "source": [
    "### Quantify average reconstruction error"
   ]
  },
  {
   "cell_type": "code",
   "execution_count": null,
   "id": "b321df84-b6b3-4225-a14e-6298a8085aa9",
   "metadata": {},
   "outputs": [],
   "source": []
  }
 ],
 "metadata": {
  "kernelspec": {
   "display_name": "Python 3",
   "language": "python",
   "name": "python3"
  },
  "language_info": {
   "codemirror_mode": {
    "name": "ipython",
    "version": 3
   },
   "file_extension": ".py",
   "mimetype": "text/x-python",
   "name": "python",
   "nbconvert_exporter": "python",
   "pygments_lexer": "ipython3",
   "version": "3.8.8"
  }
 },
 "nbformat": 4,
 "nbformat_minor": 5
}
